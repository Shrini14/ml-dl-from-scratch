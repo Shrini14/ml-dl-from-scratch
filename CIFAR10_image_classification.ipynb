{
 "cells": [
  {
   "cell_type": "code",
   "execution_count": 1,
   "id": "b76c2df1-fb13-4246-9c37-ffbe2876ac83",
   "metadata": {},
   "outputs": [],
   "source": [
    "import torch \n",
    "from torchvision import datasets\n",
    "import matplotlib.pyplot as plt\n",
    "from torchvision import transforms"
   ]
  },
  {
   "cell_type": "code",
   "execution_count": 3,
   "id": "742564a8-1ed2-4e03-961a-c648e1bd2b3e",
   "metadata": {},
   "outputs": [],
   "source": [
    "transform = transforms.Compose([\n",
    "    transforms.ToTensor(),\n",
    "    transforms.Normalize((0.5,0.5,0.5),(0.5,0.5,0.5))\n",
    "])"
   ]
  },
  {
   "cell_type": "code",
   "execution_count": 5,
   "id": "1151e0bd-a166-44b4-baac-e35093d551c9",
   "metadata": {},
   "outputs": [
    {
     "name": "stderr",
     "output_type": "stream",
     "text": [
      "100%|████████████████████████████████████████████████████████████████████████████████| 170M/170M [06:32<00:00, 435kB/s]\n"
     ]
    }
   ],
   "source": [
    "training_data = datasets.CIFAR10(\n",
    "    root = \"data\",\n",
    "    train = True,\n",
    "    download=True,\n",
    "    transform=transform\n",
    ")\n",
    "\n",
    "test_data = datasets.CIFAR10(\n",
    "    root = \"data\",\n",
    "    train = False,\n",
    "    download=True,\n",
    "    transform=transform\n",
    ")"
   ]
  },
  {
   "cell_type": "code",
   "execution_count": 7,
   "id": "34307a16-9a68-4c39-9a38-4b5ec9f18a38",
   "metadata": {},
   "outputs": [
    {
     "data": {
      "text/plain": [
       "50000"
      ]
     },
     "execution_count": 7,
     "metadata": {},
     "output_type": "execute_result"
    }
   ],
   "source": [
    "len(training_data)"
   ]
  },
  {
   "cell_type": "code",
   "execution_count": 9,
   "id": "a78dcc3e-91b9-451b-9b47-3f51e80f47e6",
   "metadata": {},
   "outputs": [
    {
     "data": {
      "text/plain": [
       "10000"
      ]
     },
     "execution_count": 9,
     "metadata": {},
     "output_type": "execute_result"
    }
   ],
   "source": [
    "len(test_data)"
   ]
  },
  {
   "cell_type": "code",
   "execution_count": 59,
   "id": "75ca4758-7fa2-459a-95c1-f4407170a7db",
   "metadata": {},
   "outputs": [],
   "source": [
    "img,label = training_data[49999]"
   ]
  },
  {
   "cell_type": "code",
   "execution_count": 61,
   "id": "7e893227-a63c-4bb7-bfb9-94df458ee079",
   "metadata": {},
   "outputs": [
    {
     "data": {
      "text/plain": [
       "tensor([[[ 0.7961,  0.8510,  0.8353,  ...,  0.7020,  0.7333,  0.7412],\n",
       "         [ 0.7412,  0.8745,  0.8275,  ...,  0.7490,  0.7804,  0.6471],\n",
       "         [ 0.6706,  0.8353,  0.8118,  ...,  0.7255,  0.7255,  0.5843],\n",
       "         ...,\n",
       "         [ 0.1765,  0.0980,  0.0353,  ...,  0.7569,  0.8039,  0.8902],\n",
       "         [ 0.0745,  0.0196, -0.0196,  ...,  0.4196,  0.5843,  0.6627],\n",
       "         [-0.0431, -0.0745, -0.0588,  ...,  0.4039,  0.2863,  0.2784]],\n",
       "\n",
       "        [[ 0.7961,  0.8588,  0.8510,  ...,  0.7176,  0.7490,  0.7490],\n",
       "         [ 0.7333,  0.8745,  0.8353,  ...,  0.7490,  0.7882,  0.6549],\n",
       "         [ 0.6157,  0.8196,  0.8275,  ...,  0.7255,  0.7176,  0.5922],\n",
       "         ...,\n",
       "         [ 0.1216,  0.0588, -0.0039,  ...,  0.7412,  0.7882,  0.8902],\n",
       "         [ 0.0353, -0.0039, -0.0510,  ...,  0.4118,  0.5765,  0.6549],\n",
       "         [-0.0667, -0.0902, -0.0902,  ...,  0.3882,  0.2863,  0.2784]],\n",
       "\n",
       "        [[ 0.8745,  0.9373,  0.9373,  ...,  0.8275,  0.8353,  0.8275],\n",
       "         [ 0.7961,  0.9529,  0.9294,  ...,  0.8510,  0.8667,  0.7255],\n",
       "         [ 0.6549,  0.8745,  0.9137,  ...,  0.8196,  0.8196,  0.6863],\n",
       "         ...,\n",
       "         [ 0.0588, -0.0039, -0.0588,  ...,  0.7098,  0.7647,  0.8667],\n",
       "         [-0.0118, -0.0588, -0.0980,  ...,  0.3961,  0.5529,  0.6235],\n",
       "         [-0.1059, -0.1373, -0.1294,  ...,  0.3569,  0.2706,  0.2627]]])"
      ]
     },
     "execution_count": 61,
     "metadata": {},
     "output_type": "execute_result"
    }
   ],
   "source": [
    "img"
   ]
  },
  {
   "cell_type": "code",
   "execution_count": 63,
   "id": "b38ac0ad-36f1-4642-9a07-39a9a18d86b1",
   "metadata": {},
   "outputs": [
    {
     "data": {
      "text/plain": [
       "1"
      ]
     },
     "execution_count": 63,
     "metadata": {},
     "output_type": "execute_result"
    }
   ],
   "source": [
    "label"
   ]
  },
  {
   "cell_type": "code",
   "execution_count": 65,
   "id": "aa6bf942-b857-477f-9b61-dfc33001241b",
   "metadata": {},
   "outputs": [
    {
     "name": "stderr",
     "output_type": "stream",
     "text": [
      "Clipping input data to the valid range for imshow with RGB data ([0..1] for floats or [0..255] for integers). Got range [-0.96862745..1.0].\n"
     ]
    },
    {
     "data": {
      "image/png": "[encoded data removed]",
      "text/plain": [
       "<Figure size 640x480 with 1 Axes>"
      ]
     },
     "metadata": {},
     "output_type": "display_data"
    }
   ],
   "source": [
    "img_corrected = img.permute(1,2,0)\n",
    "\n",
    "plt.imshow(img_corrected)\n",
    "plt.axis(\"off\")\n",
    "plt.show()"
   ]
  },
  {
   "cell_type": "code",
   "execution_count": 69,
   "id": "dc86254c-5dc0-4666-88f6-942873935ee7",
   "metadata": {},
   "outputs": [],
   "source": [
    "from torch.utils.data import DataLoader"
   ]
  },
  {
   "cell_type": "code",
   "execution_count": 77,
   "id": "aa5d9157-5855-4c0b-aef9-8a2ceba943a3",
   "metadata": {},
   "outputs": [],
   "source": [
    "train_data_loader = DataLoader(training_data,batch_size=100,shuffle = True)\n",
    "test_data_loader = DataLoader(test_data,batch_size=100,shuffle = False)"
   ]
  },
  {
   "cell_type": "code",
   "execution_count": 79,
   "id": "d3742894-2d6e-4cdc-b99e-5024b604f6ee",
   "metadata": {},
   "outputs": [
    {
     "name": "stderr",
     "output_type": "stream",
     "text": [
      "Clipping input data to the valid range for imshow with RGB data ([0..1] for floats or [0..255] for integers). Got range [-0.8745098..0.99215686].\n"
     ]
    },
    {
     "name": "stdout",
     "output_type": "stream",
     "text": [
      "Feature batch shape: torch.Size([100, 3, 32, 32])\n",
      "Labels batch shape: torch.Size([100])\n"
     ]
    },
    {
     "data": {
      "image/png": "[encoded data removed]",
      "text/plain": [
       "<Figure size 640x480 with 1 Axes>"
      ]
     },
     "metadata": {},
     "output_type": "display_data"
    },
    {
     "name": "stdout",
     "output_type": "stream",
     "text": [
      "Label: 9\n"
     ]
    }
   ],
   "source": [
    "# Display image and label.\n",
    "train_features, train_labels = next(iter(train_data_loader))\n",
    "print(f\"Feature batch shape: {train_features.size()}\")\n",
    "print(f\"Labels batch shape: {train_labels.size()}\")\n",
    "img = train_features[0].squeeze()\n",
    "img_corrected = img.permute(1,2,0)\n",
    "label = train_labels[0]\n",
    "plt.imshow(img_corrected)\n",
    "plt.show()\n",
    "print(f\"Label: {label}\")"
   ]
  },
  {
   "cell_type": "code",
   "execution_count": 97,
   "id": "e8ff0a22-ef22-4cde-9b04-0a646c8eb3c4",
   "metadata": {},
   "outputs": [],
   "source": [
    "import torch.nn as nn\n",
    "import torch.optim as optim"
   ]
  },
  {
   "cell_type": "code",
   "execution_count": 105,
   "id": "2f4d2bc7-0acb-4814-ba33-2400e6d16b78",
   "metadata": {},
   "outputs": [],
   "source": [
    "class CNN(nn.Module):\n",
    "    def __init__(self):\n",
    "        super().__init__()\n",
    "        self.network = nn.Sequential(\n",
    "            nn.Conv2d(3,32,kernel_size=(3,3),padding = 1),\n",
    "            nn.ReLU(),\n",
    "            nn.MaxPool2d(kernel_size=(2,2),stride=2),\n",
    "            nn.Conv2d(32,64,kernel_size=(3,3)),\n",
    "            nn.ReLU(),\n",
    "            nn.MaxPool2d(kernel_size=(2,2),stride=2),\n",
    "\n",
    "            nn.Flatten(),\n",
    "            nn.Linear(64*7*7,600),\n",
    "            nn.ReLU(),\n",
    "\n",
    "            nn.Linear(600,120),\n",
    "            nn.ReLU(),\n",
    "\n",
    "            nn.Linear(120,10)\n",
    "        )\n",
    "\n",
    "    def forward(self,x):\n",
    "        return self.network(x)"
   ]
  },
  {
   "cell_type": "code",
   "execution_count": 107,
   "id": "16d0773d-1cae-413a-a9b9-f5f21e860a92",
   "metadata": {},
   "outputs": [],
   "source": [
    "model = CNN()\n",
    "criterion = nn.CrossEntropyLoss()\n",
    "optimizer = optim.Adam(model.parameters(),lr=0.001)"
   ]
  },
  {
   "cell_type": "code",
   "execution_count": 111,
   "id": "3eaa905c-1867-479d-aa1e-6d46d1a58210",
   "metadata": {},
   "outputs": [],
   "source": [
    "epochs = 20"
   ]
  },
  {
   "cell_type": "code",
   "execution_count": 113,
   "id": "b2eee008-f7a1-41d2-a328-3eadeccec08b",
   "metadata": {},
   "outputs": [
    {
     "name": "stdout",
     "output_type": "stream",
     "text": [
      "Using device: cuda\n",
      "for epoch 1 : loss is 1.40\n",
      "for epoch 2 : loss is 0.98\n",
      "for epoch 3 : loss is 0.78\n",
      "for epoch 4 : loss is 0.63\n",
      "for epoch 5 : loss is 0.49\n",
      "for epoch 6 : loss is 0.36\n",
      "for epoch 7 : loss is 0.25\n",
      "for epoch 8 : loss is 0.15\n",
      "for epoch 9 : loss is 0.11\n",
      "for epoch 10 : loss is 0.09\n",
      "for epoch 11 : loss is 0.07\n",
      "for epoch 12 : loss is 0.07\n",
      "for epoch 13 : loss is 0.06\n",
      "for epoch 14 : loss is 0.05\n",
      "for epoch 15 : loss is 0.06\n",
      "for epoch 16 : loss is 0.04\n",
      "for epoch 17 : loss is 0.05\n",
      "for epoch 18 : loss is 0.04\n",
      "for epoch 19 : loss is 0.05\n",
      "for epoch 20 : loss is 0.04\n"
     ]
    }
   ],
   "source": [
    "# Select device\n",
    "device = torch.device(\"cuda\" if torch.cuda.is_available() else \"cpu\")\n",
    "print(\"Using device:\", device)\n",
    "\n",
    "# Move model to device\n",
    "model = model.to(device)\n",
    "\n",
    "for epoch in range(epochs):\n",
    "    losses = 0.0\n",
    "    for image, label in train_data_loader:\n",
    "        # Move data to device\n",
    "        image, label = image.to(device), label.to(device)\n",
    "\n",
    "        # forward pass\n",
    "        output = model(image)\n",
    "        loss = criterion(output, label)\n",
    "        losses += loss.item()\n",
    "\n",
    "        # backward pass\n",
    "        optimizer.zero_grad()\n",
    "        loss.backward()\n",
    "\n",
    "        # weights update\n",
    "        optimizer.step()\n",
    "\n",
    "    print(f\"for epoch {epoch+1} : loss is {(losses/len(train_data_loader)):.2f}\")\n"
   ]
  },
  {
   "cell_type": "code",
   "execution_count": 115,
   "id": "2aedcf95-f9cd-4f47-8a9d-542fda175630",
   "metadata": {},
   "outputs": [
    {
     "name": "stdout",
     "output_type": "stream",
     "text": [
      "Accuracy is: 72.37%\n"
     ]
    }
   ],
   "source": [
    "# Set model to evaluation mode\n",
    "model.eval()\n",
    "\n",
    "total = 0 \n",
    "correct = 0 \n",
    "\n",
    "with torch.no_grad():\n",
    "    for images, labels in test_data_loader:\n",
    "        # Move to device (GPU if available)\n",
    "        images, labels = images.to(device), labels.to(device)\n",
    "\n",
    "        # forward pass\n",
    "        out = model(images)\n",
    "        _, predicted = torch.max(out.data, 1)\n",
    "\n",
    "        # count correct predictions\n",
    "        pred_count = (predicted == labels).sum().item()\n",
    "        correct += pred_count\n",
    "        total += labels.size(0)\n",
    "\n",
    "accuracy = (correct * 100 / total)\n",
    "print(f\"Accuracy is: {accuracy:.2f}%\")\n"
   ]
  },
  {
   "cell_type": "code",
   "execution_count": null,
   "id": "bff4db82-38bb-4d7a-a102-ac960307c94b",
   "metadata": {},
   "outputs": [],
   "source": []
  }
 ],
 "metadata": {
  "kernelspec": {
   "display_name": "Python 3.10 (GPU)",
   "language": "python",
   "name": "python310gpu"
  },
  "language_info": {
   "codemirror_mode": {
    "name": "ipython",
    "version": 3
   },
   "file_extension": ".py",
   "mimetype": "text/x-python",
   "name": "python",
   "nbconvert_exporter": "python",
   "pygments_lexer": "ipython3",
   "version": "3.10.0"
  }
 },
 "nbformat": 4,
 "nbformat_minor": 5
}
